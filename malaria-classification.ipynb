{
 "cells": [
  {
   "cell_type": "code",
   "execution_count": 1,
   "metadata": {
    "_cell_guid": "b1076dfc-b9ad-4769-8c92-a6c4dae69d19",
    "_uuid": "8f2839f25d086af736a60e9eeb907d3b93b6e0e5"
   },
   "outputs": [],
   "source": [
    "# This Python 3 environment comes with many helpful analytics libraries installed\n",
    "# It is defined by the kaggle/python docker image: https://github.com/kaggle/docker-python\n",
    "# For example, here's several helpful packages to load in \n",
    "\n",
    "import numpy as np # linear algebra\n",
    "import pandas as pd # data processing, CSV file I/O (e.g. pd.read_csv)\n",
    "\n",
    "# Input data files are available in the \"../input/\" directory.\n",
    "# For example, running this (by clicking run or pressing Shift+Enter) will list all files under the input directory\n",
    "import matplotlib.pyplot as plt\n",
    "import os,shutil\n",
    "#from tqdm import tqdm\n",
    "import random\n",
    "\n",
    "%matplotlib inline\n",
    "\n",
    "\n",
    "# Any results you write to the current directory are saved as output."
   ]
  },
  {
   "cell_type": "code",
   "execution_count": 2,
   "metadata": {},
   "outputs": [
    {
     "name": "stderr",
     "output_type": "stream",
     "text": [
      "Using TensorFlow backend.\n"
     ]
    }
   ],
   "source": [
    "from keras import layers\n",
    "from keras import models\n",
    "model = models.Sequential()\n",
    "model.add(layers.Conv2D(32, (3, 3), activation='relu',\n",
    "input_shape=(96,96, 3)))\n",
    "model.add(layers.MaxPooling2D((2, 2)))\n",
    "model.add(layers.Conv2D(64, (3, 3), activation='relu'))\n",
    "model.add(layers.MaxPooling2D((2, 2)))\n",
    "model.add(layers.Conv2D(128, (3, 3), activation='relu'))\n",
    "model.add(layers.MaxPooling2D((2, 2)))\n",
    "model.add(layers.Conv2D(512, (3, 3), activation='relu'))\n",
    "model.add(layers.MaxPooling2D((2, 2)))\n",
    "model.add(layers.Flatten())\n",
    "model.add(layers.Dense(1024, activation='relu'))\n",
    "model.add(layers.Dropout(0.5))\n",
    "model.add(layers.Dense(1, activation='sigmoid'))"
   ]
  },
  {
   "cell_type": "code",
   "execution_count": 3,
   "metadata": {},
   "outputs": [
    {
     "name": "stdout",
     "output_type": "stream",
     "text": [
      "Model: \"sequential_1\"\n",
      "_________________________________________________________________\n",
      "Layer (type)                 Output Shape              Param #   \n",
      "=================================================================\n",
      "conv2d_1 (Conv2D)            (None, 94, 94, 32)        896       \n",
      "_________________________________________________________________\n",
      "max_pooling2d_1 (MaxPooling2 (None, 47, 47, 32)        0         \n",
      "_________________________________________________________________\n",
      "conv2d_2 (Conv2D)            (None, 45, 45, 64)        18496     \n",
      "_________________________________________________________________\n",
      "max_pooling2d_2 (MaxPooling2 (None, 22, 22, 64)        0         \n",
      "_________________________________________________________________\n",
      "conv2d_3 (Conv2D)            (None, 20, 20, 128)       73856     \n",
      "_________________________________________________________________\n",
      "max_pooling2d_3 (MaxPooling2 (None, 10, 10, 128)       0         \n",
      "_________________________________________________________________\n",
      "conv2d_4 (Conv2D)            (None, 8, 8, 512)         590336    \n",
      "_________________________________________________________________\n",
      "max_pooling2d_4 (MaxPooling2 (None, 4, 4, 512)         0         \n",
      "_________________________________________________________________\n",
      "flatten_1 (Flatten)          (None, 8192)              0         \n",
      "_________________________________________________________________\n",
      "dense_1 (Dense)              (None, 1024)              8389632   \n",
      "_________________________________________________________________\n",
      "dropout_1 (Dropout)          (None, 1024)              0         \n",
      "_________________________________________________________________\n",
      "dense_2 (Dense)              (None, 1)                 1025      \n",
      "=================================================================\n",
      "Total params: 9,074,241\n",
      "Trainable params: 9,074,241\n",
      "Non-trainable params: 0\n",
      "_________________________________________________________________\n"
     ]
    }
   ],
   "source": [
    "model.summary()"
   ]
  },
  {
   "cell_type": "code",
   "execution_count": 4,
   "metadata": {},
   "outputs": [],
   "source": [
    "from keras.preprocessing.image import ImageDataGenerator\n",
    "from keras.optimizers import Adam\n",
    "from keras.preprocessing.image import img_to_array\n",
    "from sklearn.preprocessing import LabelBinarizer\n",
    "from sklearn.model_selection import train_test_split\n",
    "import random\n",
    "import cv2\n",
    "from PIL import Image"
   ]
  },
  {
   "cell_type": "code",
   "execution_count": 5,
   "metadata": {},
   "outputs": [],
   "source": [
    "data = []\n",
    "labels = []\n",
    "\n",
    "parasitized = os.listdir(\"/kaggle/input/cell-images-for-detecting-malaria/cell_images/cell_images/Parasitized\")\n",
    "uninfected = os.listdir(\"/kaggle/input/cell-images-for-detecting-malaria/cell_images/cell_images/Uninfected\")\n",
    "\n",
    "parasitized.remove(\"Thumbs.db\")\n",
    "uninfected.remove(\"Thumbs.db\")\n",
    "\n",
    "for u in uninfected:\n",
    "    image = Image.open(\"/kaggle/input/cell-images-for-detecting-malaria/cell_images/cell_images/Uninfected/\" + u)\n",
    "    image = image.resize((96,96))\n",
    "    image = img_to_array(image)\n",
    "    data.append(image)\n",
    "    labels.append(0)\n",
    "\n",
    "for p in parasitized:\n",
    "    image = Image.open(\"/kaggle/input/cell-images-for-detecting-malaria/cell_images/cell_images/Parasitized/\" + p)\n",
    "    image = image.resize((96,96))\n",
    "    image = img_to_array(image)\n",
    "    data.append(image)\n",
    "    labels.append(1)\n"
   ]
  },
  {
   "cell_type": "code",
   "execution_count": 6,
   "metadata": {},
   "outputs": [],
   "source": [
    "data = np.array(data)\n",
    "labels = np.array(labels)"
   ]
  },
  {
   "cell_type": "code",
   "execution_count": 7,
   "metadata": {},
   "outputs": [],
   "source": [
    "n = np.arange(data.shape[0])\n",
    "np.random.shuffle(n)\n",
    "data = data[n]\n",
    "labels = labels[n]"
   ]
  },
  {
   "cell_type": "code",
   "execution_count": 8,
   "metadata": {},
   "outputs": [],
   "source": [
    "data = data.astype(np.float32)\n",
    "#labels = labels.astype(np.int32)\n",
    "data = data/255.0"
   ]
  },
  {
   "cell_type": "code",
   "execution_count": 9,
   "metadata": {},
   "outputs": [],
   "source": [
    "train_x, x, train_y, y = train_test_split(data, labels, test_size = 0.2, random_state = 42)\n",
    "\n",
    "val_x, test_x, val_y , test_y = train_test_split(x, y , test_size = 0.5, random_state = 42)"
   ]
  },
  {
   "cell_type": "code",
   "execution_count": 10,
   "metadata": {},
   "outputs": [
    {
     "name": "stdout",
     "output_type": "stream",
     "text": [
      "Number of trainig examples: 22046\n",
      "Number of validation examples: 2756\n",
      "Number of test examples: 2756\n"
     ]
    }
   ],
   "source": [
    "print(\"Number of trainig examples:\",train_x.shape[0])\n",
    "print(\"Number of validation examples:\",val_x.shape[0])\n",
    "print(\"Number of test examples:\",test_x.shape[0])"
   ]
  },
  {
   "cell_type": "code",
   "execution_count": 11,
   "metadata": {},
   "outputs": [],
   "source": [
    "aug = ImageDataGenerator(rotation_range=40, width_shift_range=0.2,height_shift_range=0.2,shear_range=0.2,\n",
    "                        zoom_range=0.2,horizontal_flip=True,fill_mode='nearest')"
   ]
  },
  {
   "cell_type": "code",
   "execution_count": 12,
   "metadata": {},
   "outputs": [],
   "source": [
    "from keras.callbacks import EarlyStopping\n",
    "from keras.callbacks import ReduceLROnPlateau\n",
    "callbacks_list = [ EarlyStopping(monitor='val_accuracy', patience = 20, min_delta = 1,verbose = 1),\n",
    "                   ReduceLROnPlateau(monitor='val_accuracy', factor=0.1, patience=15,verbose = 1)]"
   ]
  },
  {
   "cell_type": "code",
   "execution_count": 13,
   "metadata": {},
   "outputs": [],
   "source": [
    "opt = Adam(lr = 1e-3)\n",
    "model.compile(loss = 'binary_crossentropy', optimizer = opt, metrics = ['accuracy'])"
   ]
  },
  {
   "cell_type": "code",
   "execution_count": 14,
   "metadata": {},
   "outputs": [
    {
     "name": "stdout",
     "output_type": "stream",
     "text": [
      "Epoch 1/60\n",
      "688/688 [==============================] - 56s 81ms/step - loss: 0.6931 - accuracy: 0.5141 - val_loss: 0.6923 - val_accuracy: 0.5265\n",
      "Epoch 2/60\n",
      "688/688 [==============================] - 51s 75ms/step - loss: 0.6918 - accuracy: 0.5190 - val_loss: 0.6814 - val_accuracy: 0.5671\n",
      "Epoch 3/60\n",
      "688/688 [==============================] - 51s 74ms/step - loss: 0.4454 - accuracy: 0.7678 - val_loss: 0.1972 - val_accuracy: 0.9430\n",
      "Epoch 4/60\n",
      "688/688 [==============================] - 50s 73ms/step - loss: 0.2320 - accuracy: 0.9226 - val_loss: 0.1766 - val_accuracy: 0.9383\n",
      "Epoch 5/60\n",
      "688/688 [==============================] - 51s 74ms/step - loss: 0.2174 - accuracy: 0.9282 - val_loss: 0.1669 - val_accuracy: 0.9459\n",
      "Epoch 6/60\n",
      "688/688 [==============================] - 51s 75ms/step - loss: 0.2072 - accuracy: 0.9303 - val_loss: 0.1534 - val_accuracy: 0.9536\n",
      "Epoch 7/60\n",
      "688/688 [==============================] - 51s 74ms/step - loss: 0.1971 - accuracy: 0.9316 - val_loss: 0.1501 - val_accuracy: 0.9503\n",
      "Epoch 8/60\n",
      "688/688 [==============================] - 51s 74ms/step - loss: 0.1966 - accuracy: 0.9335 - val_loss: 0.1398 - val_accuracy: 0.9521\n",
      "Epoch 10/60\n",
      "688/688 [==============================] - 50s 72ms/step - loss: 0.1945 - accuracy: 0.9329 - val_loss: 0.1521 - val_accuracy: 0.9441\n",
      "Epoch 11/60\n",
      "688/688 [==============================] - 50s 72ms/step - loss: 0.1925 - accuracy: 0.9340 - val_loss: 0.1461 - val_accuracy: 0.9507\n",
      "Epoch 12/60\n",
      "688/688 [==============================] - 51s 74ms/step - loss: 0.1875 - accuracy: 0.9348 - val_loss: 0.1485 - val_accuracy: 0.9514\n",
      "Epoch 13/60\n",
      "688/688 [==============================] - 50s 73ms/step - loss: 0.1887 - accuracy: 0.9342 - val_loss: 0.1463 - val_accuracy: 0.9514\n",
      "Epoch 14/60\n",
      "688/688 [==============================] - 50s 73ms/step - loss: 0.1862 - accuracy: 0.9369 - val_loss: 0.1451 - val_accuracy: 0.9499\n",
      "Epoch 15/60\n",
      "688/688 [==============================] - 50s 73ms/step - loss: 0.1790 - accuracy: 0.9366 - val_loss: 0.1581 - val_accuracy: 0.9507\n",
      "Epoch 16/60\n",
      "688/688 [==============================] - 49s 72ms/step - loss: 0.1867 - accuracy: 0.9351 - val_loss: 0.1396 - val_accuracy: 0.9525\n",
      "Epoch 17/60\n",
      "688/688 [==============================] - 49s 71ms/step - loss: 0.1818 - accuracy: 0.9365 - val_loss: 0.1517 - val_accuracy: 0.9532\n",
      "Epoch 18/60\n",
      "688/688 [==============================] - 50s 73ms/step - loss: 0.1801 - accuracy: 0.9364 - val_loss: 0.1519 - val_accuracy: 0.9488\n",
      "Epoch 19/60\n",
      "561/688 [=======================>......] - ETA: 9s - loss: 0.1778 - accuracy: 0.9386"
     ]
    }
   ],
   "source": [
    "history = model.fit_generator(aug.flow(train_x,train_y, batch_size = 32) ,steps_per_epoch = len(train_x)//32 ,\n",
    "                              validation_data = (val_x,val_y), callbacks = callbacks_list, epochs = 60  )"
   ]
  },
  {
   "cell_type": "code",
   "execution_count": 15,
   "metadata": {},
   "outputs": [
    {
     "data": {
      "image/png": "[encoded data removed]",
      "text/plain": [
       "<Figure size 432x288 with 1 Axes>"
      ]
     },
     "metadata": {
      "needs_background": "light"
     },
     "output_type": "display_data"
    },
    {
     "data": {
      "image/png": "[encoded data removed]",
      "text/plain": [
       "<Figure size 432x288 with 1 Axes>"
      ]
     },
     "metadata": {
      "needs_background": "light"
     },
     "output_type": "display_data"
    }
   ],
   "source": [
    "plt.plot(history.history['accuracy'])\n",
    "plt.plot(history.history['val_accuracy'])\n",
    "plt.title('model accuracy')\n",
    "plt.ylabel('accuracy')\n",
    "plt.xlabel('epoch')\n",
    "plt.legend(['train', 'validation'], loc='lower right')\n",
    "plt.show()\n",
    "# summarize history for loss\n",
    "plt.plot(history.history['loss'])\n",
    "plt.plot(history.history['val_loss'])\n",
    "plt.title('model loss')\n",
    "plt.ylabel('loss')\n",
    "plt.xlabel('epoch')\n",
    "plt.legend(['train', 'validation'], loc='upper right')\n",
    "plt.show()"
   ]
  },
  {
   "cell_type": "code",
   "execution_count": 16,
   "metadata": {},
   "outputs": [
    {
     "name": "stdout",
     "output_type": "stream",
     "text": [
      "Test Accuracy: 0.952\n"
     ]
    }
   ],
   "source": [
    "_, test_acc = model.evaluate(test_x, test_y, verbose=0)\n",
    "print('Test Accuracy: %.3f' % (test_acc))"
   ]
  },
  {
   "cell_type": "code",
   "execution_count": 17,
   "metadata": {},
   "outputs": [],
   "source": [
    "model.save('my_model.h5')"
   ]
  }
 ],
 "metadata": {
  "kernelspec": {
   "display_name": "Python 3",
   "language": "python",
   "name": "python3"
  },
  "language_info": {
   "codemirror_mode": {
    "name": "ipython",
    "version": 3
   },
   "file_extension": ".py",
   "mimetype": "text/x-python",
   "name": "python",
   "nbconvert_exporter": "python",
   "pygments_lexer": "ipython3",
   "version": "3.6.6"
  }
 },
 "nbformat": 4,
 "nbformat_minor": 1
}
